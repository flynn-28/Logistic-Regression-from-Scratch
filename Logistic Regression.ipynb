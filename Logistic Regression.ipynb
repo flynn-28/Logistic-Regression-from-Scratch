{
 "cells": [
  {
   "cell_type": "markdown",
   "id": "1c261c89",
   "metadata": {},
   "source": [
    "# Logistic Regression From Scratch\n",
    "\n",
    "This notebook explains how to build, train, and evaluate a logistic regressor in Python. It covers the background and implementation of a basic logistic regressor to help understand machine learning concepts."
   ]
  },
  {
   "cell_type": "markdown",
   "id": "c2f6605a",
   "metadata": {},
   "source": [
    "## Background\n",
    "\n",
    "Logistic regression is a very simple and widely used algorithm in machine learning. It is a classification algorithm designed to predict binary outcomes based on input features. It does this by first calculating the linear combination of input features:\n",
    "\n",
    "$$\n",
    "z = \\mathbf{w}^\\top \\mathbf{x} + b\n",
    "$$\n",
    "\n",
    "Then, it predicts the probability by passing the linear combination through the sigmoid function:\n",
    "\n",
    "$$\n",
    "\\sigma(z) = \\frac{1}{1 + e^{-z}}\n",
    "$$\n",
    "\n",
    "Finally, it compares the result to a threshold, usually 0.5, to make its prediction:\n",
    "\n",
    "$$\n",
    "\\hat{y} = \\begin{cases} 1 & \\text{if } \\sigma(z) \\geq 0.5 \\\\ 0 & \\text{if } \\sigma(z) < 0.5 \\end{cases}\n",
    "$$\n",
    "\n",
    "The goal of logistic regression is to predict a binary outcome, or a target that can be one of two possible outcomes. It does this by determining whether or not the given input falls under the positive class."
   ]
  },
  {
   "cell_type": "markdown",
   "id": "018cd2cc",
   "metadata": {},
   "source": [
    "## Step 1: Data Preparation\n",
    "\n",
    "In order to train and test a logistic regression model, we need data with features and a target consisting of binary labels. In this example, we will generate synthetic data, but the model will work with real world data. Data preparation is split into two steps:\n",
    "\n",
    "**1. Data Generation** - The process of creating random input features and assigning binary labels based on a hidden and randomly created linear model passed through the sigmoid function. Noise is also added to make the data more realistic.\n",
    "\n",
    "**2. Data Splitting** - The process of splitting the generated data into training and testing sets. This allows us to see how well our model performs when predicting unseen data."
   ]
  },
  {
   "cell_type": "markdown",
   "id": "1a34954d",
   "metadata": {},
   "source": [
    "*Data Generation*\n",
    "\n",
    "This function takes input for `samples` and `features` so we can control the length and dimensionality of the data or change the complexity. It then generates random data for features and randomly generates *true* weights and bias to calculate the resulting labels using our activation function (sigmoid)."
   ]
  },
  {
   "cell_type": "code",
   "execution_count": 44,
   "id": "dad267cc",
   "metadata": {},
   "outputs": [],
   "source": [
    "import numpy as np # numeric operations\n",
    "\n",
    "def generate_data(samples=1000, features=3):                # data generation function with input for samples and features\n",
    "    X = np.random.randn(samples, features)                  # generate features randomly\n",
    "    X += np.random.normal(0, 0.1, X.shape)                  # add noise\n",
    "    true_weights = np.random.randn(features, 1)             # randomly generate weights\n",
    "    true_bias = np.random.randn()                           # randomly generate a bias\n",
    "    combination = X.dot(true_weights) + true_bias           # calculate linear combination of input and weights plus bias\n",
    "    combination += np.random.normal(0, 0.1, (samples, 1))   # add noise\n",
    "    probabilities = 1 / (1 + np.exp(-combination))          # calculate probabilities with sigmoid\n",
    "    y = (probabilities > 0.5).astype(int)                   # convert probabilities to a binary\n",
    "    return X, y                                             # return features and labels\n",
    "\n",
    "X, y = generate_data()  # generate synthetic data"
   ]
  },
  {
   "cell_type": "markdown",
   "id": "973cc3d6",
   "metadata": {},
   "source": [
    "*Data Splitting*\n",
    "\n",
    "This function takes input `X` for our features, `y` for our target, and `test_size` for the size of data. It then shuffles all possible indices of our features, determines the index to split the data on based on `test_size` and splits indices into train and test sets. Finally, it separates the target and features based on the train and test indices and returns the training and testing targets and features."
   ]
  },
  {
   "cell_type": "code",
   "execution_count": 45,
   "id": "dc8d2f0b",
   "metadata": {},
   "outputs": [],
   "source": [
    "def split_data(X, y, test_size=0.2):\n",
    "    # shuffle indices for every sample\n",
    "    indices = np.arange(X.shape[0])                 # create array of possible indices\n",
    "    np.random.shuffle(indices)                      # shuffle indices randomly\n",
    "\n",
    "    # calculate index to seperate at\n",
    "    split_index = int(X.shape[0] * (1 - test_size))\n",
    "\n",
    "    # split into train/test sets\n",
    "    train_indices = indices[:split_index]           # select training indices\n",
    "    test_indices = indices[split_index:]            # select testing indices\n",
    "\n",
    "    # seperate target and features into training/testing sets\n",
    "    X_train = X[train_indices]                      # seperate training features\n",
    "    X_test = X[test_indices]                        # seperate training target\n",
    "    y_train = y[train_indices].flatten()            # seperate testing features\n",
    "    y_test = y[test_indices].flatten()              # seperate training target\n",
    "\n",
    "    return X_train, X_test, y_train, y_test         # return split dataset\n",
    "\n",
    "X_train, X_test, y_train, y_test = split_data(X, y) # split features and target into train and test sets"
   ]
  },
  {
   "cell_type": "markdown",
   "id": "b0274cfc",
   "metadata": {},
   "source": [
    "## Step 2: Training Functions\n",
    "\n",
    "Logistic regression uses four main functions while training:\n",
    "\n",
    "**1. Sigmoid** - The function our model uses for activation\n",
    "\n",
    "**2. Compute Loss** - The function our model uses to compute loss\n",
    "\n",
    "**3. Predict Proba** - The function our model uses to predict the probability of a class label\n",
    "\n",
    "**4. Parameter Initialization** - the function we use to initialize our models weights and bias with zeros"
   ]
  },
  {
   "cell_type": "markdown",
   "id": "babb4313",
   "metadata": {},
   "source": [
    "*Sigmoid*\n",
    "\n",
    "Our sigmoid activation function takes input `z` or the linear combination of features and parameters. It then maps it to a probability between `0` and `1`. We use the sigmoid function for activation because it compresses any real number passed through it into a range of `0` to `1` which is ideal when predicting the likelihood between two classes. The function is defined as:\n",
    "\n",
    "$$\n",
    "\\sigma(z) = \\frac{1}{1 + e^{-z}}\n",
    "$$"
   ]
  },
  {
   "cell_type": "code",
   "execution_count": 46,
   "id": "fc4b9129",
   "metadata": {},
   "outputs": [],
   "source": [
    "def sigmoid(z):                 # define sigmoid function for activation\n",
    "    return 1 / (1 + np.exp(-z)) # map input to range by computing sigmoid"
   ]
  },
  {
   "cell_type": "markdown",
   "id": "a9c3102e",
   "metadata": {},
   "source": [
    "*Compute Loss*\n",
    "\n",
    "Our loss function uses binary cross entropy and takes input `y` for the actual target and `probs` for the probabilities of each class to measure how close the predicted label is to the actual label. The binary cross entropy function is defined as:\n",
    "\n",
    "$$\n",
    "\\text{Loss}(y, \\hat{y}) = - \\frac{1}{N} \\sum_{i=1}^{N} \\left[ y_i \\log(\\hat{y}_i) + (1 - y_i) \\log(1 - \\hat{y}_i) \\right]\n",
    "$$\n",
    "\n",
    "Where:\n",
    "* $y$ is the actual label of the sample\n",
    "* $\\hat{y}$ is predicted probability of the positive class\n",
    "* $i$ is the current sample\n",
    "* $N$ is the total number of samples in the dataset\n",
    "\n",
    "We use binary cross entropy in logistic regression because when the model is incorrect, it penalizes overconfidence more than uncertainty. This is important to logistic regression because:\n",
    "\n",
    "1. it discourages overconfidence by heavily punishing incorrect, confident answers\n",
    "2. it encourages the model to output probabilities that reflect its uncertainty\n",
    "3. it improves generalization because it makes the model more cautious on unknown data"
   ]
  },
  {
   "cell_type": "code",
   "execution_count": 47,
   "id": "1751863c",
   "metadata": {},
   "outputs": [],
   "source": [
    "def compute_loss(y, probs):                                             # cross entropy function to compute loss\n",
    "    eps = 1e-15                                                         # small constant to prevent errors\n",
    "    probs = np.clip(probs, eps, 1 - eps)                                # clip probabilities to avoid absolutes\n",
    "    return -np.mean(y * np.log(probs) + (1 - y) * np.log(1 - probs))    # return average log loss over every sample"
   ]
  },
  {
   "cell_type": "markdown",
   "id": "1efc71ad",
   "metadata": {},
   "source": [
    "*Predict Probability*\n",
    "\n",
    "This function takes input `X` for the features, `weights` for the current weights, and `bias` for the current bias. The function works by first computing the linear combination of the features using the current weight and bias using the following equation:\n",
    "\n",
    "$$\n",
    "z = \\mathbf{w}^\\top \\mathbf{x} + b\n",
    "$$\n",
    "\n",
    "Then the function passes the combination through the activation function (sigmoid) to compress it into a value between **0** and **1**. This value represents the models confidence that the class is positive for the given features."
   ]
  },
  {
   "cell_type": "code",
   "execution_count": 48,
   "id": "96565239",
   "metadata": {},
   "outputs": [],
   "source": [
    "def predict_proba(X, weights, bias):        # calculate label probabilty\n",
    "    combination = np.dot(X, weights) + bias # calculate linear combination\n",
    "    return sigmoid(combination)             # caclulate and return probability"
   ]
  },
  {
   "cell_type": "markdown",
   "id": "6cb3079f",
   "metadata": {},
   "source": [
    "*Parameter Initialization*\n",
    "\n",
    "Before we can train the model, we need to initialize the parameters that will be updated during gradient descent. The function takes input `X` for our input data. It then initializes our models weights and bias with zeros, using the shape of our input data to determine the amount of weights."
   ]
  },
  {
   "cell_type": "code",
   "execution_count": 49,
   "id": "36ad16f3",
   "metadata": {},
   "outputs": [],
   "source": [
    "def parameter_initialization(X):    # function to initialize model parameters\n",
    "    weights = np.zeros(X.shape[1])  # initialize a weight for each feature\n",
    "    bias = 0.0                      # initialize bias\n",
    "    return weights, bias            # return zeroed weights and bias\n",
    "\n",
    "weights, bias = parameter_initialization(X_train)   # initialize zeroed weights and bias"
   ]
  },
  {
   "cell_type": "markdown",
   "id": "5573cdf8",
   "metadata": {},
   "source": [
    "## Step 3: Model Training\n",
    "\n",
    "To train our model, we implemented the `train` function, which uses gradient descent to optimize our model. Our function has the following inputs:\n",
    "\n",
    "* `X` - our training features\n",
    "* `y` - our training data\n",
    "* `weights` - the current model weights\n",
    "* `bias` - the current model bias\n",
    "* `epochs` - the amount of training epochs or iterations\n",
    "* `learning_rate` - the constant controlling the size of each update\n",
    "\n",
    "The function begins by initializing two lists, `loss_history` and `error_history`, these are used to record the loss and average error of our model over each epoch, or iteration of training. Then the training loop begins iterating once for every epoch. It is broken into five steps:\n",
    "\n",
    "**1. Forward pass**\n",
    "The model calls the `predict_proba` function with the training features and the current weights and bias. This gives us the models predicted probability of the positive class based on the current sample.\n",
    "\n",
    "**2. Loss Calculation**\n",
    "The model begins by calling `compute_loss` to compare the predicted probabilities with the true labels. Then it calculates the average error by taking the average of the true values subtracted from the predicted ones. Finally, it appends loss and average error to their respective histories.\n",
    "\n",
    "**3. Backpropagation**\n",
    "The model then calculates the gradient of the loss with respect to the weights and the gradient of the loss with respect to the bias.\n",
    "\n",
    "**4. Update Parameters**\n",
    "Now we update the weights and bias using gradient descent by multiplying their gradients by the learning rate and then subtracting that from them.\n",
    "\n",
    "**5. Progress Logging**\n",
    "if the total number of epochs is greater than or equal to 10 and the current epoch is a tenth interval of the total, it logs the current epoch and the loss so we can monitor progress.\n",
    "\n",
    "After all epochs are completed, the function returns the updated weights, updated bias, loss history, and the error history."
   ]
  },
  {
   "cell_type": "code",
   "execution_count": 50,
   "id": "27d6e70e",
   "metadata": {},
   "outputs": [
    {
     "name": "stdout",
     "output_type": "stream",
     "text": [
      "Epoch 0, Loss: 0.69\n",
      "Epoch 100, Loss: 0.27\n",
      "Epoch 200, Loss: 0.21\n",
      "Epoch 300, Loss: 0.18\n",
      "Epoch 400, Loss: 0.16\n",
      "Epoch 500, Loss: 0.14\n",
      "Epoch 600, Loss: 0.13\n",
      "Epoch 700, Loss: 0.13\n",
      "Epoch 800, Loss: 0.12\n",
      "Epoch 900, Loss: 0.12\n"
     ]
    }
   ],
   "source": [
    "def train(X, y, weights, bias, epochs = 1000, learning_rate = 0.1): # train the model using gradient descent\n",
    "    # initialize history\n",
    "    loss_history = []                                               # store loss history for each epoch\n",
    "    error_history = []                                              # store error history for each epoch\n",
    "\n",
    "    # training loop\n",
    "    for epoch in range(epochs): # begin training, iterating for each epoch\n",
    "        # forward pass\n",
    "        probs = predict_proba(X, weights, bias) # predict probability for each sample\n",
    "\n",
    "        # loss and error calculation\n",
    "        loss = compute_loss(y, probs)   # calcuate loss using binary cross entropy\n",
    "        error = probs - y               # calculate prediction error\n",
    "        average_error = np.mean(error)\n",
    "\n",
    "        # save to history\n",
    "        loss_history.append(loss)\n",
    "        error_history.append(average_error)\n",
    "\n",
    "        # backpropagation (backwards pass or gradient descent)\n",
    "        gradient_weights = np.dot(X.T, error) / len(y)  # calculate gradient for the weights\n",
    "        gradient_bias = average_error                   # set gradient for bias (same calcuation as earlier)\n",
    "\n",
    "        # parameter updates\n",
    "        weights -= learning_rate * gradient_weights # update weights with gradient descent\n",
    "        bias -= learning_rate * gradient_bias       # update bias with gradient descent\n",
    "\n",
    "        # progress\n",
    "        if epochs >= 10 and epoch % (epochs // 10) == 0:    # print progress every tenth of epochs\n",
    "            print(f\"Epoch {epoch}, Loss: {loss:.2f}\")\n",
    "\n",
    "    return weights, bias, loss_history, error_history   # return updated parameters and history\n",
    "\n",
    "learned_weights, learned_bias, loss_history, error_history = train(X_train, y_train, weights, bias) # train model"
   ]
  },
  {
   "cell_type": "markdown",
   "id": "0d860900",
   "metadata": {},
   "source": [
    "## Step 4: Predict\n",
    "\n",
    "\n",
    "The predict function is used to generate final predictions as a binary. It has input for:\n",
    "\n",
    "\n",
    "* `X` - the input features to predict for\n",
    "* `weights` - the trained model weights\n",
    "* `bias` - the trained model bias\n",
    "* `threshold` - the probability cutoff between classes\n",
    "\n",
    "\n",
    "The function works by calculating the linear combination, applying the activation function to the combination, then applying the threshold to the prediction."
   ]
  },
  {
   "cell_type": "code",
   "execution_count": 51,
   "id": "7a0a9117",
   "metadata": {},
   "outputs": [],
   "source": [
    "def predict(X, weights, bias, threshold = 0.5):         # use weights and bias to predict labels\n",
    "    z = np.dot(X, weights) + bias                       # calculate linear combination\n",
    "    probability = sigmoid(z)                            # use sigmoid activation to predict probability\n",
    "    return (probability >= threshold).astype(int)       # convert probabilities to binary comparing to threshold\n",
    "\n",
    "predictions = predict(X_test, learned_weights, learned_bias)    # predict testing data"
   ]
  },
  {
   "cell_type": "markdown",
   "id": "61856436",
   "metadata": {},
   "source": [
    "## Step 5: Evaluate\n",
    "\n",
    "You can evaluate a logistic regressor using the accuracy score, which tells us how often our model predicts the correct class. Accuracy score is calculated using the following equation:\n",
    "\n",
    "$$\n",
    "\\text{Accuracy} = \\frac{1}{n} \\sum_{i=1}^{n} \\mathbb{1}(\\hat{y}_i = y_i)\n",
    "$$\n",
    "\n",
    "Where:\n",
    "* $\\hat{y}_i$ is the predicted label\n",
    "* $y_i$ is the true label\n",
    "* $\\mathbb{1}$ is the indicator function returning 1 if true and 0 if false\n",
    "* $n$ is the number of samples"
   ]
  },
  {
   "cell_type": "code",
   "execution_count": 52,
   "id": "c89f7882",
   "metadata": {},
   "outputs": [
    {
     "name": "stdout",
     "output_type": "stream",
     "text": [
      "Accuracy Score: 96.00%\n"
     ]
    }
   ],
   "source": [
    "def score(predictions, actual):             # calculate accuracy by comparing predictions vs actual\n",
    "    return np.mean(predictions == actual)   # return proportion of correct predictions\n",
    "\n",
    "accuracy = score(predictions, y_test)           # score model\n",
    "print(f\"Accuracy Score: {accuracy*100:.2f}%\")   # print score"
   ]
  },
  {
   "cell_type": "markdown",
   "id": "deb657fe",
   "metadata": {},
   "source": [
    "**Loss Plot**"
   ]
  },
  {
   "cell_type": "code",
   "execution_count": 53,
   "id": "465edb86",
   "metadata": {},
   "outputs": [
    {
     "data": {
      "image/png": "[encoded data removed]",
      "text/plain": [
       "<Figure size 640x480 with 1 Axes>"
      ]
     },
     "metadata": {},
     "output_type": "display_data"
    }
   ],
   "source": [
    "import matplotlib.pyplot as plt # for making graphs\n",
    "\n",
    "plt.plot(loss_history)          # plot losses\n",
    "plt.title(\"Loss vs Epoch\")      # add title\n",
    "plt.ylabel(\"Loss\")              # y axis label\n",
    "plt.xlabel(\"Epoch\")             # x axis label\n",
    "plt.show()                      # display plot\n"
   ]
  },
  {
   "cell_type": "markdown",
   "id": "1168c386",
   "metadata": {},
   "source": [
    "**Average Error Plot**"
   ]
  },
  {
   "cell_type": "code",
   "execution_count": 54,
   "id": "76745647",
   "metadata": {},
   "outputs": [
    {
     "data": {
      "image/png": "[encoded data removed]",
      "text/plain": [
       "<Figure size 640x480 with 1 Axes>"
      ]
     },
     "metadata": {},
     "output_type": "display_data"
    }
   ],
   "source": [
    "plt.plot(error_history)             # plot average errors\n",
    "plt.title(\"Average Error vs Epoch\") # add title\n",
    "plt.ylabel(\"Average Error\")         # add x label\n",
    "plt.xlabel(\"Epoch\")                 # add y label\n",
    "plt.show()                          # print"
   ]
  },
  {
   "cell_type": "markdown",
   "id": "4692ff56",
   "metadata": {},
   "source": [
    "## Author and Liscense\n",
    "\n",
    "This notebook was authored by Aiden Flynn and is available under the [Apache 2.0](https://www.apache.org/licenses/LICENSE-2.0.txt) Liscense.\n",
    "\n",
    "[Kaggle](https://www.kaggle.com/flynn28) | [Github](https://github.com/flynn-28/)"
   ]
  }
 ],
 "metadata": {
  "kernelspec": {
   "display_name": "base",
   "language": "python",
   "name": "python3"
  },
  "language_info": {
   "codemirror_mode": {
    "name": "ipython",
    "version": 3
   },
   "file_extension": ".py",
   "mimetype": "text/x-python",
   "name": "python",
   "nbconvert_exporter": "python",
   "pygments_lexer": "ipython3",
   "version": "3.13.5"
  }
 },
 "nbformat": 4,
 "nbformat_minor": 5
}
